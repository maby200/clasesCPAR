{
 "cells": [
  {
   "cell_type": "code",
   "execution_count": 1,
   "id": "15ef8b47-c325-4fec-9c6f-c065eee2be72",
   "metadata": {},
   "outputs": [
    {
     "name": "stdout",
     "output_type": "stream",
     "text": [
      "Writing helloA.cpp\n"
     ]
    }
   ],
   "source": [
    "%%writefile helloA.cpp\n",
    "\n",
    "#include <stdio.h>\n",
    "\n",
    "int main ()\n",
    "{\n",
    "    printf(\"Helllo world\");\n",
    "    return 0;\n",
    "}"
   ]
  },
  {
   "cell_type": "code",
   "execution_count": 2,
   "id": "7d7c35d3-2253-4ccf-8b8c-337a9768a0bb",
   "metadata": {},
   "outputs": [
    {
     "name": "stdout",
     "output_type": "stream",
     "text": [
      "Writing compi_A.pbs\n"
     ]
    }
   ],
   "source": [
    "%%writefile compi_A.pbs\n",
    "#PBS -S /bin/bash\n",
    "#\n",
    "#PBS -N hello\n",
    "#PBS -l nodes=1,walltime=00:05:00\n",
    "#\n",
    "dpcpp -o $HOME/carpeta_test/hello_A $HOME/carpeta_test/hello_A.cpp\n",
    "\n",
    "$HOME/carpeta_test/hello_A"
   ]
  },
  {
   "cell_type": "code",
   "execution_count": 7,
   "id": "bdc3b572-22c5-4e54-968b-7565bd1c0ee8",
   "metadata": {},
   "outputs": [
    {
     "name": "stdout",
     "output_type": "stream",
     "text": [
      "2341334.v-qsvr-1.aidevcloud\n"
     ]
    }
   ],
   "source": [
    "!qsub compi_A.pbs"
   ]
  },
  {
   "cell_type": "code",
   "execution_count": 8,
   "id": "6b5616fe-2a2d-468a-a731-b1cc0fddbd8f",
   "metadata": {},
   "outputs": [
    {
     "name": "stdout",
     "output_type": "stream",
     "text": [
      "Job ID                    Name             User            Time Use S Queue\n",
      "------------------------- ---------------- --------------- -------- - -----\n",
      "2341306.v-qsvr-1           STDIN            u196560         00:00:04 R batch          \n",
      "2341311.v-qsvr-1           ...ub-singleuser u196560         00:00:13 R jupyterhub     \n",
      "2341334.v-qsvr-1           hello            u196560                0 R batch          \n"
     ]
    }
   ],
   "source": [
    "!qstat"
   ]
  },
  {
   "cell_type": "markdown",
   "id": "d08f2063-ddc9-4909-950a-6cddc4fdac02",
   "metadata": {},
   "source": [
    "## Ejecutar antes esto para saber tu usuario\n",
    "```bash\n",
    "$ pwd\n",
    "/home/u196560/carpeta_test/\n",
    "```"
   ]
  },
  {
   "cell_type": "code",
   "execution_count": 24,
   "id": "2704f927-412e-4561-b859-f32cadd364f0",
   "metadata": {},
   "outputs": [
    {
     "name": "stdout",
     "output_type": "stream",
     "text": [
      "Overwriting sen_curva.py\n"
     ]
    }
   ],
   "source": [
    "%%writefile sen_curva.py\n",
    "\n",
    "import numpy as np\n",
    "import matplotlib.pyplot as plt\n",
    "\n",
    "x = np.arange(2*np.pi,10*np.pi,0.1)   # inicio,final,intervalo\n",
    "y = np.sin(x)\n",
    "\n",
    "fig = plt.figure()\n",
    "plt.plot(x,y)\n",
    "plt.savefig(\"/home/u196560/carpeta_test/sen_curva.png\", dpi = 72)\n",
    "plt.close(fig)"
   ]
  },
  {
   "cell_type": "code",
   "execution_count": 25,
   "id": "cbb02d73-93a2-4a1e-bd2c-203394bee043",
   "metadata": {},
   "outputs": [
    {
     "name": "stdout",
     "output_type": "stream",
     "text": [
      "Writing compi_py.pbs\n"
     ]
    }
   ],
   "source": [
    "%%writefile compi_py.pbs\n",
    "#PBS -S /bin/bash\n",
    "#\n",
    "#PBS -N curva_seno\n",
    "#PBS -l nodes=1,walltime=00:05:00\n",
    "#\n",
    "\n",
    "python /home/u196560/carpeta_test/sen_curva.py"
   ]
  },
  {
   "cell_type": "code",
   "execution_count": 26,
   "id": "083ae1cb-4846-47d6-b55e-90ac7a400a0e",
   "metadata": {},
   "outputs": [
    {
     "name": "stdout",
     "output_type": "stream",
     "text": [
      "2341366.v-qsvr-1.aidevcloud\n"
     ]
    }
   ],
   "source": [
    "!qsub compi_py.pbs"
   ]
  }
 ],
 "metadata": {
  "kernelspec": {
   "display_name": "Python 3 (Intel® oneAPI 2023.1)",
   "language": "python",
   "name": "c009-intel_distribution_of_python_3_oneapi-beta05-python"
  },
  "language_info": {
   "codemirror_mode": {
    "name": "ipython",
    "version": 3
   },
   "file_extension": ".py",
   "mimetype": "text/x-python",
   "name": "python",
   "nbconvert_exporter": "python",
   "pygments_lexer": "ipython3",
   "version": "3.9.16"
  }
 },
 "nbformat": 4,
 "nbformat_minor": 5
}
